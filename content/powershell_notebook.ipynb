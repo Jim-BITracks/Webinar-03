{
    "metadata": {
        "kernelspec": {
            "name": "powershell",
            "display_name": "PowerShell",
            "language": "powershell"
        },
        "language_info": {
            "name": "powershell",
            "codemirror_mode": "shell",
            "mimetype": "text/x-sh",
            "file_extension": ".ps1"
        }
    },
    "nbformat_minor": 2,
    "nbformat": 4,
    "cells": [
        {
            "cell_type": "markdown",
            "source": [
                "![](powershell.png)\r\n",
                "\r\n",
                "# PowerShell Notebook"
            ],
            "metadata": {
                "azdata_cell_guid": "33840e5b-b2fd-4348-a91c-1e2eb9710024"
            }
        },
        {
            "cell_type": "markdown",
            "source": [
                "## Get PowerShell Version"
            ],
            "metadata": {
                "azdata_cell_guid": "8049fb56-8be0-4f82-b54d-797540e6de74"
            }
        },
        {
            "cell_type": "code",
            "source": [
                "get-host | select-object version\r\n",
                "if($env:Processor_Architecture -eq \"x86\"){Write-Output \"running on 32bit\"}else{Write-Output \"running on 64bit\"}"
            ],
            "metadata": {
                "azdata_cell_guid": "12debdd1-cf55-43ac-adbe-87da6aec4715",
                "tags": []
            },
            "outputs": [],
            "execution_count": null
        },
        {
            "cell_type": "markdown",
            "source": [
                "## Copy SQL backup files from source to a destination server"
            ],
            "metadata": {
                "azdata_cell_guid": "03234e04-87c0-4fab-9f8d-5612655cfdc0"
            }
        },
        {
            "cell_type": "code",
            "source": [
                "Copy-Item \"\\\\src_computer_name\\db backup\\*.BAK\" -Destination \"\\\\dst_computer_name\\db backup\""
            ],
            "metadata": {
                "azdata_cell_guid": "3a35d5bf-b121-4f52-ad07-eb5a1bbc6994"
            },
            "outputs": [],
            "execution_count": null
        },
        {
            "cell_type": "markdown",
            "source": [
                "## Export Database Table List to Excel"
            ],
            "metadata": {
                "azdata_cell_guid": "8d14a09c-bdb8-4273-81ed-0d5bcf64bace"
            }
        },
        {
            "cell_type": "code",
            "source": [
                "Invoke-Sqlcmd -Query \"select * from INFORMATION_SCHEMA.TABLES\" -ServerInstance \"localhost\" | export-csv -Delimiter ',' -Path \"tables.csv\" -NoTypeInformation"
            ],
            "metadata": {
                "azdata_cell_guid": "b5cc6398-5ecc-4889-93dd-b1cffa25dd5f"
            },
            "outputs": [],
            "execution_count": null
        }
    ]
}