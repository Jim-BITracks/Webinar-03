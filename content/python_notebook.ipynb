{
    "metadata": {
        "kernelspec": {
            "name": "python3",
            "display_name": "Python 3",
            "language": "python"
        },
        "language_info": {
            "name": "python",
            "version": "3.9.1",
            "mimetype": "text/x-python",
            "codemirror_mode": {
                "name": "ipython",
                "version": 3
            },
            "pygments_lexer": "ipython3",
            "nbconvert_exporter": "python",
            "file_extension": ".py"
        }
    },
    "nbformat_minor": 2,
    "nbformat": 4,
    "cells": [
        {
            "cell_type": "markdown",
            "source": [
                "![](python.png)\r\n",
                "\r\n",
                "# Python Notebook"
            ],
            "metadata": {
                "azdata_cell_guid": "33840e5b-b2fd-4348-a91c-1e2eb9710024"
            }
        },
        {
            "cell_type": "markdown",
            "source": [
                "## Platform Information\r\n",
                "\r\n",
                "If needed, you can use this link to [Change the Python kernel](https://docs.microsoft.com/en-us/sql/azure-data-studio/notebooks/notebooks-python-kernel?view=sql-server-ver15#change-the-python-kernel)"
            ],
            "metadata": {
                "azdata_cell_guid": "4fd7bff7-3bea-4f3e-afcf-ca4df884cbad"
            }
        },
        {
            "cell_type": "code",
            "source": [
                "import os\r\n",
                "import sys\r\n",
                "import platform\r\n",
                "print ('Python version: ' + platform.python_version())\r\n",
                "print(sys.version_info)\r\n",
                "print(os.path.dirname(sys.executable))"
            ],
            "metadata": {
                "azdata_cell_guid": "920578bb-acc0-4358-96f4-d94443c7f50e"
            },
            "outputs": [],
            "execution_count": null
        },
        {
            "cell_type": "markdown",
            "source": [
                "## Simple Python Script"
            ],
            "metadata": {
                "azdata_cell_guid": "e3e52eb8-3a75-4849-8956-ed631c0a0487"
            }
        },
        {
            "cell_type": "code",
            "source": [
                "a = 1\r\n",
                "b = 2\r\n",
                "c = a/b\r\n",
                "print(c)"
            ],
            "metadata": {
                "azdata_cell_guid": "b0e7ed38-c2f4-4f89-9b17-4dfbbb46df2e"
            },
            "outputs": [],
            "execution_count": null
        },
        {
            "cell_type": "markdown",
            "source": [
                "## Find Files"
            ],
            "metadata": {
                "azdata_cell_guid": "b38c6825-311c-42d5-a15e-c8f10ed91442"
            }
        },
        {
            "cell_type": "code",
            "source": [
                "import fnmatch\r\n",
                "import os\r\n",
                "rootPath = '/'\r\n",
                "pattern = '*.json'\r\n",
                "for root, dirs, files in os.walk(rootPath):\r\n",
                "    for filename in fnmatch.filter(files, pattern):\r\n",
                "        print( os.path.join(root, filename))\r\n",
                ""
            ],
            "metadata": {
                "azdata_cell_guid": "52df5e58-6308-4f26-944c-9f8cfa0a3e03"
            },
            "outputs": [],
            "execution_count": null
        }
    ]
}