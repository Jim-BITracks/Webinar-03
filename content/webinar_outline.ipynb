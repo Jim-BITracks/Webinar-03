{
    "metadata": {
        "kernelspec": {
            "name": "SQL",
            "display_name": "SQL",
            "language": "sql"
        },
        "language_info": {
            "name": "sql",
            "version": ""
        }
    },
    "nbformat_minor": 2,
    "nbformat": 4,
    "cells": [
        {
            "cell_type": "markdown",
            "source": [
                "![](small_logo.png)\n",
                "\n",
                "# Webinar Series for Notebooks - Sharing\n",
                "\n",
                "## 14 January 2021\n",
                "\n",
                "![](azure_data_studio_small.png)\n",
                "\n",
                "# Today's Topics\n",
                "\n",
                "- Using Links and Images\n",
                "- Jupyter Books\n",
                "- GitHub Integration\n",
                "- Notebook Variables\n",
                "    - SQL\n",
                "    - Python 3\n",
                "    - PowerShell\n",
                "\n",
                "# Using Links and Images\n",
                "\n",
                "- Links can be to resources inside or outside of the Notebook Folder\n",
                "- Should work whether\n",
                "    - In Azure Data Studio\n",
                "    - On GitHub\n",
                "\n",
                "# Jupyter Books\n",
                "\n",
                "- Bundle together Multiple Notebooks\n",
                "    - Each Notebook could Represent a Chapter (or Book Section)\n",
                "- Use .yml file for the Table of Contents\n",
                "    - File: _data.yml\n",
                "- Use readme.md (Markdown) Files for Content Description and Navigation\n",
                "\n",
                "# GitHub Integration\n",
                "\n",
                "- Why GitHub?\n",
                "    - Source Control\n",
                "    - Solution Sharing\n",
                "    - Collaboration with other Developers\n",
                "- Creating a GitHub Repository\n",
                "- Linking your ADS Project with GitHub\n",
                "\n",
                "# Notebook Variables\n",
                "\n",
                "- How to use in\n",
                "    - SQL\n",
                "    - Python 3\n",
                "    - PowerShell\n",
                "\n",
                ""
            ],
            "metadata": {
                "azdata_cell_guid": "d737a79e-73c7-4f13-bc41-6272e392ca90",
                "language": "markdown"
            }
        }
    ]
}