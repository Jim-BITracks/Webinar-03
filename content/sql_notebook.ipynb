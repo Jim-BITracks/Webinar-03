{
    "metadata": {
        "kernelspec": {
            "name": "SQL",
            "display_name": "SQL",
            "language": "sql"
        },
        "language_info": {
            "name": "sql",
            "version": ""
        }
    },
    "nbformat_minor": 2,
    "nbformat": 4,
    "cells": [
        {
            "cell_type": "markdown",
            "source": [
                "![](sql.png)\r\n",
                "\r\n",
                "# SQL Notebook - Using Variables between Code Cells\r\n",
                "\r\n",
                "- Code cells cannot directly reference each other\r\n",
                "- Temporary Tables can be shared\r\n",
                "- Snippet Example for Sharing Variables\r\n",
                ""
            ],
            "metadata": {
                "azdata_cell_guid": "d737a79e-73c7-4f13-bc41-6272e392ca90",
                "language": "markdown"
            }
        },
        {
            "cell_type": "markdown",
            "source": [
                "## Creating Temp Table Based Variables (Run Values)"
            ],
            "metadata": {
                "azdata_cell_guid": "d4a7b2f4-657c-4463-919b-2d4043232074"
            }
        },
        {
            "cell_type": "code",
            "source": [
                "DROP TABLE IF EXISTS #run_values; CREATE TABLE #run_values ([key] VARCHAR(64) PRIMARY KEY, [value] NVARCHAR(MAX))\r\n",
                "\r\n",
                "INSERT #run_values VALUES ('var1', 'Hello')"
            ],
            "metadata": {
                "azdata_cell_guid": "588e07eb-9ad2-47f8-8446-bc76cee5e69e",
                "tags": []
            },
            "outputs": [
                {
                    "output_type": "display_data",
                    "data": {
                        "text/html": "(1 row affected)"
                    },
                    "metadata": {}
                },
                {
                    "output_type": "display_data",
                    "data": {
                        "text/html": "Total execution time: 00:00:00.018"
                    },
                    "metadata": {}
                }
            ],
            "execution_count": 1
        },
        {
            "cell_type": "markdown",
            "source": [
                "## Retrieving Temp Table Based Variables"
            ],
            "metadata": {
                "azdata_cell_guid": "5f9d43c8-535e-482d-9e73-edc7dbabf3bf"
            }
        },
        {
            "cell_type": "code",
            "source": [
                "DECLARE @var1 VARCHAR(10); SELECT @var1 = [value] FROM #run_values WHERE [key] = 'var1'\r\n",
                "\r\n",
                "print @var1"
            ],
            "metadata": {
                "azdata_cell_guid": "cfeb80eb-18e4-40fa-98aa-41511b00ff9b",
                "tags": []
            },
            "outputs": [
                {
                    "output_type": "display_data",
                    "data": {
                        "text/html": "Hello"
                    },
                    "metadata": {}
                },
                {
                    "output_type": "display_data",
                    "data": {
                        "text/html": "Total execution time: 00:00:00.004"
                    },
                    "metadata": {}
                }
            ],
            "execution_count": 2
        }
    ]
}